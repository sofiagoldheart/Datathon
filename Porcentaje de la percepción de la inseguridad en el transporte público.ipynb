{
  "nbformat": 4,
  "nbformat_minor": 0,
  "metadata": {
    "colab": {
      "provenance": [],
      "authorship_tag": "ABX9TyPLMf4cSHPkd/RrhErRAXC2",
      "include_colab_link": true
    },
    "kernelspec": {
      "name": "python3",
      "display_name": "Python 3"
    },
    "language_info": {
      "name": "python"
    }
  },
  "cells": [
    {
      "cell_type": "markdown",
      "metadata": {
        "id": "view-in-github",
        "colab_type": "text"
      },
      "source": [
        "<a href=\"https://colab.research.google.com/github/sofiagoldheart/Datathon/blob/main/Porcentaje%20de%20la%20percepci%C3%B3n%20de%20la%20inseguridad%20en%20el%20transporte%20p%C3%BAblico.ipynb\" target=\"_parent\"><img src=\"https://colab.research.google.com/assets/colab-badge.svg\" alt=\"Open In Colab\"/></a>"
      ]
    },
    {
      "cell_type": "code",
      "execution_count": null,
      "metadata": {
        "id": "HO_m3O_f5DFf"
      },
      "outputs": [],
      "source": [
        "from google.colab import drive\n",
        "drive.mount('/content/drive')\n",
        "\n",
        "# Librerias utilizadas para la representación y análisis de datos\n",
        "import pandas as pd\n",
        "import matplotlib.pyplot as plt"
      ]
    },
    {
      "cell_type": "markdown",
      "source": [
        "#Porcentaje de la percepción de la inseguridad en el transporte público\n"
      ],
      "metadata": {
        "id": "nZYJfzZi5FWl"
      }
    },
    {
      "cell_type": "code",
      "source": [
        "# Load the dataset\n",
        "datathonset = pd.read_csv('/content/drive/MyDrive/datathon/Copia de Percepcion_inseguridad_transporte.csv', encoding='ISO-8859-1')\n",
        "# Visualize the dataset\n",
        "datathonset"
      ],
      "metadata": {
        "id": "CPypE8iV5Fnc"
      },
      "execution_count": null,
      "outputs": []
    }
  ]
}